{
 "cells": [
  {
   "cell_type": "markdown",
   "metadata": {},
   "source": [
    "# <center> Классификация жестов\n",
    "<img src='imgs/gesture_digits.png' width='70%'>"
   ]
  },
  {
   "cell_type": "markdown",
   "metadata": {},
   "source": [
    "[Ссылка](https://drive.google.com/open?id=1XNKW6Gk2xYbKQ-PYpJgJ8-NVCkr3NV24) на датасет с собранными жестами "
   ]
  },
  {
   "cell_type": "code",
   "execution_count": null,
   "metadata": {
    "collapsed": true
   },
   "outputs": [],
   "source": [
    "%reload_ext autoreload\n",
    "%autoreload 2\n",
    "%matplotlib inline\n",
    "\n",
    "import warnings\n",
    "warnings.filterwarnings('ignore')"
   ]
  },
  {
   "cell_type": "code",
   "execution_count": null,
   "metadata": {
    "collapsed": true
   },
   "outputs": [],
   "source": [
    "# импортируем требуемые бибилиотеки\n",
    "from source.network import NNClassifier, Softmax_layer, Flatten\n",
    "from source.helpme import show_image, load_gestures, create_loader, calculate_pad, show_aug_grid_classification\n",
    "from sklearn.model_selection import train_test_split\n",
    "import matplotlib.pyplot as plt\n",
    "import numpy as np\n",
    "import torch\n",
    "import os\n",
    "\n",
    "# импортируем функции аугментации\n",
    "from albumentations import (\n",
    "    Compose, \n",
    "    RandomBrightnessContrast, \n",
    "    ShiftScaleRotate, \n",
    "    RandomSnow,\n",
    "    Cutout\n",
    ")"
   ]
  },
  {
   "cell_type": "markdown",
   "metadata": {},
   "source": [
    "[Ссылка](https://github.com/albu/albumentations#pixel-level-transforms) на полный список аугментаций"
   ]
  },
  {
   "cell_type": "code",
   "execution_count": null,
   "metadata": {},
   "outputs": [],
   "source": [
    "X, y = load_gestures(['gesture_dataset'], size=(64, 64))"
   ]
  },
  {
   "cell_type": "code",
   "execution_count": null,
   "metadata": {},
   "outputs": [],
   "source": [
    "# с помощью функции show_image мы можем посмотреть как выглядит определенная картинка\n",
    "show_image(X[47])"
   ]
  },
  {
   "cell_type": "code",
   "execution_count": null,
   "metadata": {},
   "outputs": [],
   "source": [
    "# разобьем выборку на тренировочную и валидационную\n",
    "\n",
    "X_train, X_test, y_train, y_test = train_test_split(X, y, test_size=0.2, random_state=17, shuffle=True)\n",
    "\n",
    "print('Размер тренировочной выборки: %d' % len(X_train))\n",
    "print('Размер тестовой выборки: %d' % len(X_test))\n",
    "\n",
    "X_test = np.transpose(X_test, (0, 3, 1, 2))"
   ]
  },
  {
   "cell_type": "code",
   "execution_count": null,
   "metadata": {
    "collapsed": true
   },
   "outputs": [],
   "source": [
    "# определим аугментацию\n",
    "aug = Compose([\n",
    "    \n",
    "    Cutout(num_holes=15, max_h_size=10, max_w_size=10, fill_value=0, always_apply=False, p=0.5),\n",
    "    ShiftScaleRotate(shift_limit=0.15, scale_limit=0.1, rotate_limit=35 , border_mode=0, p=0.5),\n",
    "    RandomBrightnessContrast(brightness_limit=0.3, contrast_limit=0.4, p=0.5),\n",
    "\n",
    "])"
   ]
  },
  {
   "cell_type": "code",
   "execution_count": null,
   "metadata": {
    "collapsed": true
   },
   "outputs": [],
   "source": [
    "# создадим train loader\n",
    "train_loader = create_loader(X_train, y_train, trs = aug, shuffle=True, batch_size=32)"
   ]
  },
  {
   "cell_type": "code",
   "execution_count": null,
   "metadata": {},
   "outputs": [],
   "source": [
    "# посмотрим как выглядят картинки с примененной аугментацией\n",
    "show_aug_grid_classification(train_loader, idx=18, size=5)"
   ]
  },
  {
   "cell_type": "markdown",
   "metadata": {},
   "source": [
    "# Convolutional neural network"
   ]
  },
  {
   "cell_type": "code",
   "execution_count": null,
   "metadata": {},
   "outputs": [],
   "source": [
    "calculate_pad(input_size=64, kernel_size=3, stride=2, output_size=32)"
   ]
  },
  {
   "cell_type": "code",
   "execution_count": null,
   "metadata": {
    "collapsed": true
   },
   "outputs": [],
   "source": [
    "# определим архитектуру сети\n",
    "\n",
    "conv_net = torch.nn.Sequential(torch.nn.Conv2d(in_channels=3, out_channels=20, kernel_size=3, stride=1, padding=1),\n",
    "                               torch.nn.ReLU(),\n",
    "                               torch.nn.BatchNorm2d(20),\n",
    "                               # 64\n",
    "                               \n",
    "                               torch.nn.Conv2d(in_channels=20,out_channels=30, kernel_size=3, stride=2, padding=1),\n",
    "                               torch.nn.ReLU(),\n",
    "                               torch.nn.BatchNorm2d(30),\n",
    "                               # 32\n",
    "\n",
    "                               torch.nn.Conv2d(30, 40, 3, stride=2, padding=1),\n",
    "                               torch.nn.ReLU(),\n",
    "                               torch.nn.BatchNorm2d(40),\n",
    "                               # 16\n",
    "\n",
    "                               torch.nn.Conv2d(40, 50, 3, stride=2, padding=1),\n",
    "                               torch.nn.ReLU(),\n",
    "                               torch.nn.BatchNorm2d(50),\n",
    "                               # 8\n",
    "\n",
    "                               torch.nn.Conv2d(50, 60, 3, stride=2, padding=1),\n",
    "                               torch.nn.ReLU(),\n",
    "                               torch.nn.BatchNorm2d(60),\n",
    "                               # 4\n",
    "\n",
    "                               Flatten(),\n",
    "                               torch.nn.Linear(960, 10))"
   ]
  },
  {
   "cell_type": "code",
   "execution_count": null,
   "metadata": {
    "collapsed": true
   },
   "outputs": [],
   "source": [
    "# определим модель с удобным функционалом\n",
    "\n",
    "model = NNClassifier(conv_net, lr=5e-5, criterion=torch.nn.CrossEntropyLoss())"
   ]
  },
  {
   "cell_type": "code",
   "execution_count": null,
   "metadata": {},
   "outputs": [],
   "source": [
    "# обучим нейросеть\n",
    "\n",
    "model.fit_loader(train_loader, epochs=50,\n",
    "          valid_data=(X_test, y_test), log_every_epoch=10)"
   ]
  },
  {
   "cell_type": "code",
   "execution_count": null,
   "metadata": {},
   "outputs": [],
   "source": [
    "# посмотрим на кривые обучения\n",
    "\n",
    "model.show_history()"
   ]
  },
  {
   "cell_type": "code",
   "execution_count": null,
   "metadata": {},
   "outputs": [],
   "source": [
    "# проверим точность модели\n",
    "\n",
    "model.evaluate_score(X_test, y_test)"
   ]
  },
  {
   "cell_type": "code",
   "execution_count": null,
   "metadata": {
    "scrolled": false
   },
   "outputs": [],
   "source": [
    "# посмотрим как работает нейросеть\n",
    "\n",
    "model.show_predict_grid(X_test, y_test, size = 5)"
   ]
  },
  {
   "cell_type": "code",
   "execution_count": null,
   "metadata": {
    "collapsed": true
   },
   "outputs": [],
   "source": [
    "# model.save('gesture_classifier.pt')"
   ]
  },
  {
   "cell_type": "markdown",
   "metadata": {
    "collapsed": true
   },
   "source": [
    "# Transfer-learning"
   ]
  },
  {
   "cell_type": "code",
   "execution_count": null,
   "metadata": {
    "collapsed": true
   },
   "outputs": [],
   "source": [
    "from torchvision import models\n",
    "import torchsummary"
   ]
  },
  {
   "cell_type": "code",
   "execution_count": null,
   "metadata": {},
   "outputs": [],
   "source": [
    "X, y = load_gestures(['gesture_dataset'], size=(224, 224))\n",
    "\n",
    "# разобьем выборку на тренировочную и валидационную\n",
    "X_train, X_test, y_train, y_test = train_test_split(X, y, test_size=0.2, random_state=17, shuffle=True)\n",
    "\n",
    "print('Размер тренировочной выборки: %d' % len(X_train))\n",
    "print('Размер тестовой выборки: %d' % len(X_test))\n",
    "\n",
    "X_test = np.transpose(X_test, (0, 3, 1, 2))\n",
    "\n",
    "# создадим train loader\n",
    "train_loader_224 = create_loader(X_train, y_train, trs = aug, shuffle=True, batch_size=32)"
   ]
  },
  {
   "cell_type": "code",
   "execution_count": null,
   "metadata": {
    "collapsed": true
   },
   "outputs": [],
   "source": [
    "resnet = models.resnet18(pretrained=True)"
   ]
  },
  {
   "cell_type": "code",
   "execution_count": null,
   "metadata": {
    "collapsed": true
   },
   "outputs": [],
   "source": [
    "for i, param in enumerate(resnet.parameters()):\n",
    "    param.requires_grad = False"
   ]
  },
  {
   "cell_type": "code",
   "execution_count": null,
   "metadata": {
    "collapsed": true
   },
   "outputs": [],
   "source": [
    "res_conv_net = torch.nn.Sequential(*(list(resnet.children())[:-3]),\n",
    "                               \n",
    "                               torch.nn.Conv2d(in_channels=256,out_channels=256, kernel_size=3, stride=2, padding=1),\n",
    "                               torch.nn.ReLU(),\n",
    "                               torch.nn.BatchNorm2d(256),\n",
    "                               \n",
    "                               torch.nn.Conv2d(in_channels=256,out_channels=256, kernel_size=3, stride=2, padding=1),\n",
    "                               torch.nn.ReLU(),\n",
    "                               torch.nn.BatchNorm2d(256),\n",
    "                               \n",
    "                               Flatten(),\n",
    "                               \n",
    "                               \n",
    "                              torch.nn.Linear(4096, 10),\n",
    "                              )"
   ]
  },
  {
   "cell_type": "code",
   "execution_count": null,
   "metadata": {
    "scrolled": false
   },
   "outputs": [],
   "source": [
    "torchsummary.summary(res_conv_net, (3, 224, 224), device='cpu')"
   ]
  },
  {
   "cell_type": "code",
   "execution_count": null,
   "metadata": {
    "collapsed": true
   },
   "outputs": [],
   "source": [
    "# определим модель с удобным функционалом\n",
    "\n",
    "res_model = NNClassifier(res_conv_net, lr=5e-5, criterion=torch.nn.CrossEntropyLoss())"
   ]
  },
  {
   "cell_type": "code",
   "execution_count": null,
   "metadata": {},
   "outputs": [],
   "source": [
    "# обучим нейросеть\n",
    "\n",
    "res_model.fit_loader(train_loader_224, epochs=150,\n",
    "          valid_data=(X_test, y_test), log_every_epoch=2)"
   ]
  },
  {
   "cell_type": "code",
   "execution_count": null,
   "metadata": {},
   "outputs": [],
   "source": [
    "# посмотрим на кривые обучения\n",
    "\n",
    "res_model.show_history()"
   ]
  },
  {
   "cell_type": "code",
   "execution_count": null,
   "metadata": {},
   "outputs": [],
   "source": [
    "# проверим точность модели\n",
    "\n",
    "res_model.evaluate_score(X_test, y_test)"
   ]
  },
  {
   "cell_type": "code",
   "execution_count": null,
   "metadata": {
    "scrolled": false
   },
   "outputs": [],
   "source": [
    "# посмотрим как работает нейросеть\n",
    "\n",
    "res_model.show_predict_grid(X_test, y_test, size = 8)"
   ]
  },
  {
   "cell_type": "code",
   "execution_count": null,
   "metadata": {},
   "outputs": [],
   "source": [
    "res_model.save('gesture_classifier.pt')"
   ]
  }
 ],
 "metadata": {
  "kernelspec": {
   "display_name": "Python 3",
   "language": "python",
   "name": "python3"
  },
  "language_info": {
   "codemirror_mode": {
    "name": "ipython",
    "version": 3
   },
   "file_extension": ".py",
   "mimetype": "text/x-python",
   "name": "python",
   "nbconvert_exporter": "python",
   "pygments_lexer": "ipython3",
   "version": "3.6.8"
  },
  "latex_envs": {
   "LaTeX_envs_menu_present": true,
   "autocomplete": true,
   "bibliofile": "biblio.bib",
   "cite_by": "apalike",
   "current_citInitial": 1,
   "eqLabelWithNumbers": true,
   "eqNumInitial": 1,
   "hotkeys": {
    "equation": "Ctrl-E",
    "itemize": "Ctrl-I"
   },
   "labels_anchors": false,
   "latex_user_defs": false,
   "report_style_numbering": false,
   "user_envs_cfg": false
  }
 },
 "nbformat": 4,
 "nbformat_minor": 2
}
