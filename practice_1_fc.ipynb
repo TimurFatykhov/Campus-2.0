{
 "cells": [
  {
   "cell_type": "markdown",
   "metadata": {},
   "source": [
    "# <center> Классификация рукописных цифр\n",
    "<img src='imgs/mnist_examples.png' width=80%>"
   ]
  },
  {
   "cell_type": "markdown",
   "metadata": {},
   "source": [
    "# Подготовка"
   ]
  },
  {
   "cell_type": "markdown",
   "metadata": {},
   "source": [
    "#### Импортируем библиотеки"
   ]
  },
  {
   "cell_type": "code",
   "execution_count": 6,
   "metadata": {
    "collapsed": true
   },
   "outputs": [],
   "source": [
    "%load_ext autoreload\n",
    "%autoreload 2"
   ]
  },
  {
   "cell_type": "code",
   "execution_count": 7,
   "metadata": {
    "collapsed": true
   },
   "outputs": [],
   "source": [
    "import torch\n",
    "from source.network import NNClassifier\n",
    "from source.helpme import show_history, show_image, load_mnist\n",
    "import numpy as np"
   ]
  },
  {
   "cell_type": "markdown",
   "metadata": {},
   "source": [
    "#### Загрузим датасет"
   ]
  },
  {
   "cell_type": "code",
   "execution_count": 8,
   "metadata": {
    "collapsed": true
   },
   "outputs": [],
   "source": [
    "X, y = load_mnist(shape='vector') # X - картинки, y - ответы (классы)"
   ]
  },
  {
   "cell_type": "code",
   "execution_count": 11,
   "metadata": {},
   "outputs": [
    {
     "data": {
      "image/png": "[encoded data removed]",
      "text/plain": [
       "<Figure size 360x360 with 1 Axes>"
      ]
     },
     "metadata": {},
     "output_type": "display_data"
    }
   ],
   "source": [
    "# посмотрим как выглядит картинка (преобразовав вектор в матрицу)\n",
    "show_image(X[50004])"
   ]
  },
  {
   "cell_type": "code",
   "execution_count": 13,
   "metadata": {},
   "outputs": [],
   "source": [
    "# а вот как выглядит та же картинки в виде вектора (раскоментируйте следующую строку)\n",
    "# print(X[0])"
   ]
  },
  {
   "cell_type": "code",
   "execution_count": 14,
   "metadata": {},
   "outputs": [
    {
     "name": "stdout",
     "output_type": "stream",
     "text": [
      "(70000, 784) (70000,)\n"
     ]
    }
   ],
   "source": [
    "# посмотрим какие размерности у наших данных\n",
    "print(X.shape, y.shape)"
   ]
  },
  {
   "cell_type": "markdown",
   "metadata": {},
   "source": [
    "# Полносвязная нейросеть (1 слой)"
   ]
  },
  {
   "cell_type": "code",
   "execution_count": 67,
   "metadata": {
    "collapsed": true
   },
   "outputs": [],
   "source": [
    "one_layer_net = torch.nn.Sequential(torch.nn.Linear(28*28, 10))"
   ]
  },
  {
   "cell_type": "markdown",
   "metadata": {},
   "source": [
    "<br>\n",
    "Используем класс NNClassifier, который имеет следующие методы:\n",
    "- **fit(X, y, epochs, batch_size, valid_data)** - обучает нейросеть\n",
    "- **predict_proba(X, batch_size)** - предсказывает вероятности\n",
    "- **predict(X, batch_size)** - предсказывает к какому классу относится каждый объект\n",
    "- **evaluate_score(X, y, batch_size)** - возвращает долю угаданных объектов\n",
    "- **loss(X, y, batch_size)** - рассчитывает ошибку\n",
    "<br>\n",
    "<br>\n",
    "<br>\n",
    "*batch_size* - это количество данных, которые нейросеть обрабатывает за один раз<br>\n",
    "*valid_data* - это данные для валидации работы нейросети"
   ]
  },
  {
   "cell_type": "code",
   "execution_count": 68,
   "metadata": {
    "collapsed": true
   },
   "outputs": [],
   "source": [
    "# создадим объект класса NNClassifier, передав архитектуру нейросети и learning rate (шаг обучения)\n",
    "model_1 = NNClassifier(one_layer_net, lr=1e-4)"
   ]
  },
  {
   "cell_type": "code",
   "execution_count": 79,
   "metadata": {
    "collapsed": true
   },
   "outputs": [],
   "source": [
    "# разобьем датасет на три части: тренировочная, валидационная и тестовая\n",
    "X_train = X[:19000]\n",
    "y_train = y[:19000]\n",
    "\n",
    "X_valid = X[19000:19500]\n",
    "y_valid = y[19000:19500]\n",
    "\n",
    "X_test = X[-50000:]\n",
    "y_test = y[-50000:]"
   ]
  },
  {
   "cell_type": "code",
   "execution_count": 70,
   "metadata": {},
   "outputs": [
    {
     "data": {
      "application/vnd.jupyter.widget-view+json": {
       "model_id": "032ffb64c3794563a94f23a4d3343c4e",
       "version_major": 2,
       "version_minor": 0
      },
      "text/plain": [
       "A Jupyter Widget"
      ]
     },
     "metadata": {},
     "output_type": "display_data"
    },
    {
     "name": "stdout",
     "output_type": "stream",
     "text": [
      "\n"
     ]
    }
   ],
   "source": [
    "# обучим нейросеть на тренировочных данных, фиксируя результат классификации на валидационной части датасета\n",
    "model_1.fit(X_train, y_train, epochs=20, batch_size=256, \n",
    "          valid_data=(X_valid, y_valid))"
   ]
  },
  {
   "cell_type": "code",
   "execution_count": 71,
   "metadata": {},
   "outputs": [
    {
     "data": {
      "image/png": "[encoded data removed]",
      "text/plain": [
       "<Figure size 432x288 with 1 Axes>"
      ]
     },
     "metadata": {},
     "output_type": "display_data"
    }
   ],
   "source": [
    "# посмотрим на графики ошибок на тренировочной и валидационной частях\n",
    "show_history(model_1.train_history, model_1.valid_history)"
   ]
  },
  {
   "cell_type": "code",
   "execution_count": 72,
   "metadata": {
    "scrolled": true
   },
   "outputs": [
    {
     "name": "stdout",
     "output_type": "stream",
     "text": [
      "Правильно угадано 83% картинок\n"
     ]
    }
   ],
   "source": [
    "# посмотрим на долю правильных ответов\n",
    "acc = model_1.evaluate_score(X_test, y_test)\n",
    "\n",
    "print(\"Правильно угадано %d%% картинок\" % (int(acc * 100)))"
   ]
  },
  {
   "cell_type": "markdown",
   "metadata": {},
   "source": [
    "# Полносвязная нейросеть (2 слоя)"
   ]
  },
  {
   "cell_type": "code",
   "execution_count": 22,
   "metadata": {
    "collapsed": true
   },
   "outputs": [],
   "source": [
    "two_layer_net = torch.nn.Sequential(torch.nn.Linear(28*28, 128),\n",
    "                                    torch.nn.ReLU(),\n",
    "                                    torch.nn.Linear(128, 10))"
   ]
  },
  {
   "cell_type": "code",
   "execution_count": 23,
   "metadata": {
    "collapsed": true
   },
   "outputs": [],
   "source": [
    "# создадим объект класса NNClassifier, передав архитектуру нейросети и learning rate (шаг обучения)\n",
    "model_2 = NNClassifier(two_layer_net, lr=1e-4)"
   ]
  },
  {
   "cell_type": "code",
   "execution_count": 24,
   "metadata": {},
   "outputs": [
    {
     "data": {
      "application/vnd.jupyter.widget-view+json": {
       "model_id": "8d50f701c8c646309e1b96207765e8bc",
       "version_major": 2,
       "version_minor": 0
      },
      "text/plain": [
       "A Jupyter Widget"
      ]
     },
     "metadata": {},
     "output_type": "display_data"
    },
    {
     "name": "stdout",
     "output_type": "stream",
     "text": [
      "\n"
     ]
    }
   ],
   "source": [
    "# обучим нейросеть на тренировочных данных, фиксируя результат классификации на валидационной части датасета\n",
    "model_2.fit(X_train, y_train, epochs=75, batch_size=256, \n",
    "          valid_data=(X_valid, y_valid))"
   ]
  },
  {
   "cell_type": "code",
   "execution_count": 25,
   "metadata": {},
   "outputs": [
    {
     "data": {
      "image/png": "[encoded data removed]",
      "text/plain": [
       "<Figure size 432x288 with 1 Axes>"
      ]
     },
     "metadata": {},
     "output_type": "display_data"
    }
   ],
   "source": [
    "# посмотрим на графики ошибок на тренировочной и валидационной частях\n",
    "show_history(model_2.train_history, model_2.valid_history)"
   ]
  },
  {
   "cell_type": "code",
   "execution_count": 26,
   "metadata": {
    "scrolled": true
   },
   "outputs": [
    {
     "name": "stdout",
     "output_type": "stream",
     "text": [
      "Правильно угадано 91% картинок\n"
     ]
    }
   ],
   "source": [
    "# посмотрим на процент долю ответов\n",
    "acc = model_2.evaluate_score(X_test, y_test)\n",
    "\n",
    "print(\"Правильно угадано %d%% картинок\" % (int(acc * 100)))"
   ]
  },
  {
   "cell_type": "markdown",
   "metadata": {},
   "source": [
    "# Полносвязная нейросеть (3 слоя)"
   ]
  },
  {
   "cell_type": "code",
   "execution_count": 49,
   "metadata": {},
   "outputs": [],
   "source": [
    "three_layer_net = torch.nn.Sequential(torch.nn.Linear(28*28, 256),\n",
    "                                    torch.nn.ReLU(),\n",
    "                                    \n",
    "                                    torch.nn.Linear(256, 512),\n",
    "                                    torch.nn.ReLU(),\n",
    "                                    \n",
    "                                    torch.nn.Linear(512, 128),\n",
    "                                    torch.nn.ReLU(),\n",
    "                                      \n",
    "                                    torch.nn.Linear(128, 10))"
   ]
  },
  {
   "cell_type": "code",
   "execution_count": 50,
   "metadata": {
    "collapsed": true
   },
   "outputs": [],
   "source": [
    "# создадим объект класса NNClassifier, передав архитектуру нейросети и learning rate (шаг обучения)\n",
    "model_3 = NNClassifier(three_layer_net, lr=1e-4)"
   ]
  },
  {
   "cell_type": "code",
   "execution_count": 51,
   "metadata": {},
   "outputs": [
    {
     "data": {
      "application/vnd.jupyter.widget-view+json": {
       "model_id": "fdb0ebe9d72a4694a6ace8d2195c727d",
       "version_major": 2,
       "version_minor": 0
      },
      "text/plain": [
       "A Jupyter Widget"
      ]
     },
     "metadata": {},
     "output_type": "display_data"
    },
    {
     "name": "stdout",
     "output_type": "stream",
     "text": [
      "\n"
     ]
    }
   ],
   "source": [
    "# обучим нейросеть на тренировочных данных, фиксируя результат классификации на валидационной части датасета\n",
    "model_3.fit(X_train, y_train, epochs=75, batch_size=256, \n",
    "          valid_data=(X_valid, y_valid))"
   ]
  },
  {
   "cell_type": "code",
   "execution_count": 52,
   "metadata": {},
   "outputs": [
    {
     "data": {
      "image/png": "[encoded data removed]",
      "text/plain": [
       "<Figure size 432x288 with 1 Axes>"
      ]
     },
     "metadata": {},
     "output_type": "display_data"
    }
   ],
   "source": [
    "# посмотрим на графики ошибок на тренировочной и валидационной частях\n",
    "show_history(model_3.train_history, model_3.valid_history)"
   ]
  },
  {
   "cell_type": "code",
   "execution_count": 53,
   "metadata": {
    "scrolled": true
   },
   "outputs": [
    {
     "name": "stdout",
     "output_type": "stream",
     "text": [
      "Правильно угадано 95% картинок\n"
     ]
    }
   ],
   "source": [
    "# посмотрим на процент долю ответов\n",
    "acc = model_3.evaluate_score(X_test, y_test)\n",
    "\n",
    "print(\"Правильно угадано %d%% картинок\" % (int(acc * 100)))"
   ]
  },
  {
   "cell_type": "markdown",
   "metadata": {},
   "source": [
    "# Полносвязная нейросеть (3 слоя + Batch Normalization)"
   ]
  },
  {
   "cell_type": "code",
   "execution_count": 54,
   "metadata": {
    "collapsed": true
   },
   "outputs": [],
   "source": [
    "three_layer_net_bn = torch.nn.Sequential(\n",
    "    torch.nn.Linear(28*28, 128),\n",
    "    torch.nn.ReLU(), \n",
    "    torch.nn.BatchNorm1d(128),\n",
    "                                    \n",
    "    torch.nn.Linear(128, 128),\n",
    "    torch.nn.ReLU(),\n",
    "    torch.nn.BatchNorm1d(128),\n",
    "                                    \n",
    "    torch.nn.Linear(128, 10))"
   ]
  },
  {
   "cell_type": "code",
   "execution_count": 55,
   "metadata": {
    "collapsed": true
   },
   "outputs": [],
   "source": [
    "# создадим объект класса NNClassifier, передав архитектуру нейросети и learning rate (шаг обучения)\n",
    "model_3_bn = NNClassifier(three_layer_net_bn, lr=1e-4)"
   ]
  },
  {
   "cell_type": "code",
   "execution_count": 56,
   "metadata": {},
   "outputs": [
    {
     "data": {
      "application/vnd.jupyter.widget-view+json": {
       "model_id": "7a20076498a841c690d4ca04495f9b9b",
       "version_major": 2,
       "version_minor": 0
      },
      "text/plain": [
       "A Jupyter Widget"
      ]
     },
     "metadata": {},
     "output_type": "display_data"
    },
    {
     "name": "stdout",
     "output_type": "stream",
     "text": [
      "\n"
     ]
    }
   ],
   "source": [
    "# обучим нейросеть на тренировочных данных, фиксируя результат классификации на валидационной части датасета\n",
    "model_3_bn.fit(X_train, y_train, epochs=75, batch_size=256)"
   ]
  },
  {
   "cell_type": "code",
   "execution_count": 57,
   "metadata": {
    "scrolled": true
   },
   "outputs": [
    {
     "name": "stdout",
     "output_type": "stream",
     "text": [
      "Правильно угадано 94% картинок\n"
     ]
    }
   ],
   "source": [
    "# посмотрим на процент долю ответов\n",
    "acc = model_3_bn.evaluate_score(X_test, y_test)\n",
    "\n",
    "print(\"Правильно угадано %d%% картинок\" % (int(acc * 100)))"
   ]
  },
  {
   "cell_type": "markdown",
   "metadata": {},
   "source": [
    "# Ваша нейросеть"
   ]
  },
  {
   "cell_type": "code",
   "execution_count": 80,
   "metadata": {},
   "outputs": [],
   "source": [
    "net = torch.nn.Sequential(\n",
    "    torch.nn.Linear(28*28, 128),\n",
    "    torch.nn.ReLU(),\n",
    "    torch.nn.BatchNorm1d(128),\n",
    "    \n",
    "    torch.nn.Linear(128, 10)\n",
    ")"
   ]
  },
  {
   "cell_type": "code",
   "execution_count": 87,
   "metadata": {
    "collapsed": true
   },
   "outputs": [],
   "source": [
    "model = NNClassifier(net, lr=5e-5)"
   ]
  },
  {
   "cell_type": "code",
   "execution_count": 88,
   "metadata": {},
   "outputs": [
    {
     "data": {
      "application/vnd.jupyter.widget-view+json": {
       "model_id": "9fcef4b04337401b8cf7efa52100c7f3",
       "version_major": 2,
       "version_minor": 0
      },
      "text/plain": [
       "A Jupyter Widget"
      ]
     },
     "metadata": {},
     "output_type": "display_data"
    },
    {
     "name": "stdout",
     "output_type": "stream",
     "text": [
      "\n"
     ]
    }
   ],
   "source": [
    "model.fit(X_train, y_train, epochs=10, batch_size=256, \n",
    "          valid_data=(X_valid, y_valid))"
   ]
  },
  {
   "cell_type": "code",
   "execution_count": 89,
   "metadata": {},
   "outputs": [
    {
     "data": {
      "image/png": "[encoded data removed]",
      "text/plain": [
       "<Figure size 432x288 with 1 Axes>"
      ]
     },
     "metadata": {},
     "output_type": "display_data"
    }
   ],
   "source": [
    "show_history(model.train_history, model.valid_history)"
   ]
  },
  {
   "cell_type": "code",
   "execution_count": 90,
   "metadata": {},
   "outputs": [
    {
     "name": "stdout",
     "output_type": "stream",
     "text": [
      "Правильно угадано 95% картинок\n"
     ]
    }
   ],
   "source": [
    "# посмотрим на процент долю ответов\n",
    "acc = model.evaluate_score(X_test, y_test)\n",
    "\n",
    "print(\"Правильно угадано %d%% картинок\" % (int(acc * 100)))"
   ]
  },
  {
   "cell_type": "code",
   "execution_count": null,
   "metadata": {
    "collapsed": true
   },
   "outputs": [],
   "source": []
  }
 ],
 "metadata": {
  "kernelspec": {
   "display_name": "Python 3",
   "language": "python",
   "name": "python3"
  },
  "language_info": {
   "codemirror_mode": {
    "name": "ipython",
    "version": 3
   },
   "file_extension": ".py",
   "mimetype": "text/x-python",
   "name": "python",
   "nbconvert_exporter": "python",
   "pygments_lexer": "ipython3",
   "version": "3.6.9"
  },
  "latex_envs": {
   "LaTeX_envs_menu_present": true,
   "autocomplete": true,
   "bibliofile": "biblio.bib",
   "cite_by": "apalike",
   "current_citInitial": 1,
   "eqLabelWithNumbers": true,
   "eqNumInitial": 1,
   "hotkeys": {
    "equation": "Ctrl-E",
    "itemize": "Ctrl-I"
   },
   "labels_anchors": false,
   "latex_user_defs": false,
   "report_style_numbering": false,
   "user_envs_cfg": false
  }
 },
 "nbformat": 4,
 "nbformat_minor": 2
}
