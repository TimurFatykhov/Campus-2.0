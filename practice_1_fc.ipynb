{
 "cells": [
  {
   "cell_type": "markdown",
   "metadata": {},
   "source": [
    "# <center> Классификация рукописных цифр\n",
    "<img src='imgs/mnist_examples.png' width=80%>"
   ]
  },
  {
   "cell_type": "markdown",
   "metadata": {},
   "source": [
    "# Подготовка"
   ]
  },
  {
   "cell_type": "markdown",
   "metadata": {},
   "source": [
    "#### Импортируем библиотеки"
   ]
  },
  {
   "cell_type": "code",
   "execution_count": null,
   "metadata": {},
   "outputs": [],
   "source": [
    "%load_ext autoreload\n",
    "%autoreload 2"
   ]
  },
  {
   "cell_type": "code",
   "execution_count": null,
   "metadata": {},
   "outputs": [],
   "source": [
    "import torch\n",
    "from source.network import NNClassifier\n",
    "from source.helpme import show_history, show_image, load_mnist\n",
    "import numpy as np"
   ]
  },
  {
   "cell_type": "markdown",
   "metadata": {},
   "source": [
    "#### Загрузим датасет"
   ]
  },
  {
   "cell_type": "code",
   "execution_count": null,
   "metadata": {
    "collapsed": true
   },
   "outputs": [],
   "source": [
    "X, y = load_mnist(shape='vector') # X - картинки, y - ответы (классы)"
   ]
  },
  {
   "cell_type": "code",
   "execution_count": null,
   "metadata": {},
   "outputs": [],
   "source": [
    "# посмотрим как выглядит картинка (преобразовав вектор в матрицу)\n",
    "show_image(X[0])"
   ]
  },
  {
   "cell_type": "code",
   "execution_count": null,
   "metadata": {},
   "outputs": [],
   "source": [
    "# а вот как выглядит та же картинки в виде вектора (раскоментируйте следующую строку)\n",
    "# print(X[0])"
   ]
  },
  {
   "cell_type": "code",
   "execution_count": null,
   "metadata": {},
   "outputs": [],
   "source": [
    "# посмотрим какие размерности у наших данных\n",
    "print(X.shape, y.shape)"
   ]
  },
  {
   "cell_type": "markdown",
   "metadata": {},
   "source": [
    "# Полносвязная нейросеть (1 слой)"
   ]
  },
  {
   "cell_type": "code",
   "execution_count": null,
   "metadata": {},
   "outputs": [],
   "source": [
    "class Softmax_layer(torch.nn.Module):\n",
    "    def __init__(self):\n",
    "        super().__init__()\n",
    "    \n",
    "    def forward(self, x):\n",
    "        e = torch.exp(x - x.max(1, True)[0] )\n",
    "        summ = e.sum(1, True)[0]\n",
    "        return e / summ"
   ]
  },
  {
   "cell_type": "code",
   "execution_count": null,
   "metadata": {},
   "outputs": [],
   "source": [
    "one_layer_net = torch.nn.Sequential(torch.nn.Linear(28*28, 10))"
   ]
  },
  {
   "cell_type": "markdown",
   "metadata": {},
   "source": [
    "<br>\n",
    "Используем класс NNClassifier, который имеет следующие методы:\n",
    "- **fit(X, y, epochs, batch_size, valid_data)** - обучает нейросеть\n",
    "- **predict_proba(X, batch_size)** - предсказывает вероятности\n",
    "- **predict(X, batch_size)** - предсказывает к какому классу относится каждый объект\n",
    "- **evaluate_score(X, y, batch_size)** - возвращает долю угаданных объектов\n",
    "- **loss(X, y, batch_size)** - рассчитывает ошибку\n",
    "<br>\n",
    "<br>\n",
    "<br>\n",
    "*batch_size* - это количество данных, которые нейросеть обрабатывает за один раз<br>\n",
    "*valid_data* - это данные для валидации работы нейросети"
   ]
  },
  {
   "cell_type": "code",
   "execution_count": null,
   "metadata": {
    "collapsed": true
   },
   "outputs": [],
   "source": [
    "# создадим объект класса NNClassifier, передав архитектуру нейросети и learning rate (шаг обучения)\n",
    "model_1 = NNClassifier(one_layer_net, lr=1e-4)"
   ]
  },
  {
   "cell_type": "code",
   "execution_count": null,
   "metadata": {},
   "outputs": [],
   "source": [
    "# разобьем датасет на три части: тренировочная, валидационная и тестовая\n",
    "X_train = X[:10000]\n",
    "y_train = y[:10000]\n",
    "\n",
    "X_valid = X[10000:10500]\n",
    "y_valid = y[10000:10500]\n",
    "\n",
    "X_test = X[-50000:]\n",
    "y_test = y[-50000:]"
   ]
  },
  {
   "cell_type": "code",
   "execution_count": null,
   "metadata": {},
   "outputs": [],
   "source": [
    "# обучим нейросеть на тренировочных данных, фиксируя результат классификации на валидационной части датасета\n",
    "model_1.fit(X_train, y_train, epochs=75, batch_size=256, \n",
    "          valid_data=(X_valid, y_valid))"
   ]
  },
  {
   "cell_type": "code",
   "execution_count": null,
   "metadata": {},
   "outputs": [],
   "source": [
    "# посмотрим на графики ошибок на тренировочной и валидационной частях\n",
    "show_history(model_1.train_history, model_1.valid_history)"
   ]
  },
  {
   "cell_type": "code",
   "execution_count": null,
   "metadata": {
    "scrolled": true
   },
   "outputs": [],
   "source": [
    "# посмотрим на процент долю ответов\n",
    "acc = model_1.evaluate_score(X_test, y_test)\n",
    "\n",
    "print(\"Правильно угадано %d%% картинок\" % (int(acc * 100)))"
   ]
  },
  {
   "cell_type": "markdown",
   "metadata": {},
   "source": [
    "# Полносвязная нейросеть (2 слоя)"
   ]
  },
  {
   "cell_type": "code",
   "execution_count": null,
   "metadata": {
    "collapsed": true
   },
   "outputs": [],
   "source": [
    "two_layer_net = torch.nn.Sequential(torch.nn.Linear(28*28, 128),\n",
    "                                    torch.nn.ReLU(),\n",
    "                                    torch.nn.Linear(128, 10))"
   ]
  },
  {
   "cell_type": "code",
   "execution_count": null,
   "metadata": {
    "collapsed": true
   },
   "outputs": [],
   "source": [
    "# создадим объект класса NNClassifier, передав архитектуру нейросети и learning rate (шаг обучения)\n",
    "model_2 = NNClassifier(two_layer_net, lr=1e-4)"
   ]
  },
  {
   "cell_type": "code",
   "execution_count": null,
   "metadata": {},
   "outputs": [],
   "source": [
    "# обучим нейросеть на тренировочных данных, фиксируя результат классификации на валидационной части датасета\n",
    "model_2.fit(X_train, y_train, epochs=75, batch_size=256, \n",
    "          valid_data=(X_valid, y_valid))"
   ]
  },
  {
   "cell_type": "code",
   "execution_count": null,
   "metadata": {},
   "outputs": [],
   "source": [
    "# посмотрим на графики ошибок на тренировочной и валидационной частях\n",
    "show_history(model_2.train_history, model_2.valid_history)"
   ]
  },
  {
   "cell_type": "code",
   "execution_count": null,
   "metadata": {
    "scrolled": true
   },
   "outputs": [],
   "source": [
    "# посмотрим на процент долю ответов\n",
    "acc = model_2.evaluate_score(X_test, y_test)\n",
    "\n",
    "print(\"Правильно угадано %d%% картинок\" % (int(acc * 100)))"
   ]
  },
  {
   "cell_type": "markdown",
   "metadata": {},
   "source": [
    "# Полносвязная нейросеть (3 слоя)"
   ]
  },
  {
   "cell_type": "code",
   "execution_count": null,
   "metadata": {
    "collapsed": true
   },
   "outputs": [],
   "source": [
    "three_layer_net = torch.nn.Sequential(torch.nn.Linear(28*28, 128),\n",
    "                                    torch.nn.ReLU(),\n",
    "                                    \n",
    "                                    torch.nn.Linear(128, 128),\n",
    "                                    torch.nn.ReLU(),\n",
    "                                    \n",
    "                                    torch.nn.Linear(128, 10))"
   ]
  },
  {
   "cell_type": "code",
   "execution_count": null,
   "metadata": {
    "collapsed": true
   },
   "outputs": [],
   "source": [
    "# создадим объект класса NNClassifier, передав архитектуру нейросети и learning rate (шаг обучения)\n",
    "model_3 = NNClassifier(three_layer_net, lr=1e-4)"
   ]
  },
  {
   "cell_type": "code",
   "execution_count": null,
   "metadata": {},
   "outputs": [],
   "source": [
    "# обучим нейросеть на тренировочных данных, фиксируя результат классификации на валидационной части датасета\n",
    "model_3.fit(X_train, y_train, epochs=75, batch_size=256, \n",
    "          valid_data=(X_valid, y_valid))"
   ]
  },
  {
   "cell_type": "code",
   "execution_count": null,
   "metadata": {},
   "outputs": [],
   "source": [
    "# посмотрим на графики ошибок на тренировочной и валидационной частях\n",
    "show_history(model_3.train_history, model_3.valid_history)"
   ]
  },
  {
   "cell_type": "code",
   "execution_count": null,
   "metadata": {
    "scrolled": true
   },
   "outputs": [],
   "source": [
    "# посмотрим на процент долю ответов\n",
    "acc = model_3.evaluate_score(X_test, y_test)\n",
    "\n",
    "print(\"Правильно угадано %d%% картинок\" % (int(acc * 100)))"
   ]
  },
  {
   "cell_type": "markdown",
   "metadata": {},
   "source": [
    "# Полносвязная нейросеть (3 слоя + Batch Normalization)"
   ]
  },
  {
   "cell_type": "code",
   "execution_count": null,
   "metadata": {
    "collapsed": true
   },
   "outputs": [],
   "source": [
    "three_layer_net_bn = torch.nn.Sequential(torch.nn.Linear(28*28, 128),\n",
    "                                      torch.nn.ReLU(), \n",
    "                                      torch.nn.BatchNorm1d(128),\n",
    "                                    \n",
    "                                      torch.nn.Linear(128, 128),\n",
    "                                      torch.nn.ReLU(),\n",
    "                                      torch.nn.BatchNorm1d(128),\n",
    "                                    \n",
    "                                      torch.nn.Linear(128, 10))"
   ]
  },
  {
   "cell_type": "code",
   "execution_count": null,
   "metadata": {
    "collapsed": true
   },
   "outputs": [],
   "source": [
    "# создадим объект класса NNClassifier, передав архитектуру нейросети и learning rate (шаг обучения)\n",
    "model_3_bn = NNClassifier(three_layer_net_bn, lr=1e-4)"
   ]
  },
  {
   "cell_type": "code",
   "execution_count": null,
   "metadata": {},
   "outputs": [],
   "source": [
    "# обучим нейросеть на тренировочных данных, фиксируя результат классификации на валидационной части датасета\n",
    "model_3_bn.fit(X_train, y_train, epochs=75, batch_size=256)"
   ]
  },
  {
   "cell_type": "code",
   "execution_count": null,
   "metadata": {},
   "outputs": [],
   "source": [
    "# посмотрим на графики ошибок на тренировочной и валидационной частях\n",
    "show_history(model_3_bn.train_history, model_3_bn.valid_history)"
   ]
  },
  {
   "cell_type": "code",
   "execution_count": null,
   "metadata": {
    "scrolled": true
   },
   "outputs": [],
   "source": [
    "# посмотрим на процент долю ответов\n",
    "acc = model_3_bn.evaluate_score(X_test, y_test)\n",
    "\n",
    "print(\"Правильно угадано %d%% картинок\" % (int(acc * 100)))"
   ]
  },
  {
   "cell_type": "markdown",
   "metadata": {},
   "source": [
    "# Ваша нейросеть"
   ]
  },
  {
   "cell_type": "code",
   "execution_count": null,
   "metadata": {
    "collapsed": true
   },
   "outputs": [],
   "source": [
    "# net = torch.nn.Sequential()"
   ]
  },
  {
   "cell_type": "code",
   "execution_count": null,
   "metadata": {
    "collapsed": true
   },
   "outputs": [],
   "source": [
    "# model = NNClassifier(net, lr=1e-4)"
   ]
  },
  {
   "cell_type": "code",
   "execution_count": null,
   "metadata": {
    "collapsed": true
   },
   "outputs": [],
   "source": [
    "# model.fit(X_train, y_train, epochs=, batch_size=256, valid_data=(X_valid, y_valid))"
   ]
  },
  {
   "cell_type": "code",
   "execution_count": null,
   "metadata": {
    "collapsed": true
   },
   "outputs": [],
   "source": [
    "# show_history(model.train_history, model.valid_history)"
   ]
  },
  {
   "cell_type": "code",
   "execution_count": null,
   "metadata": {
    "collapsed": true
   },
   "outputs": [],
   "source": [
    "# посмотрим на процент долю ответов\n",
    "# acc = model.evaluate_score(X_test, y_test)\n",
    "\n",
    "# print(\"Правильно угадано %d%% картинок\" % (int(acc * 100)))"
   ]
  }
 ],
 "metadata": {
  "kernelspec": {
   "display_name": "Python 3",
   "language": "python",
   "name": "python3"
  },
  "language_info": {
   "codemirror_mode": {
    "name": "ipython",
    "version": 3
   },
   "file_extension": ".py",
   "mimetype": "text/x-python",
   "name": "python",
   "nbconvert_exporter": "python",
   "pygments_lexer": "ipython3",
   "version": "3.6.9"
  },
  "latex_envs": {
   "LaTeX_envs_menu_present": true,
   "autocomplete": true,
   "bibliofile": "biblio.bib",
   "cite_by": "apalike",
   "current_citInitial": 1,
   "eqLabelWithNumbers": true,
   "eqNumInitial": 1,
   "hotkeys": {
    "equation": "Ctrl-E",
    "itemize": "Ctrl-I"
   },
   "labels_anchors": false,
   "latex_user_defs": false,
   "report_style_numbering": false,
   "user_envs_cfg": false
  }
 },
 "nbformat": 4,
 "nbformat_minor": 2
}
