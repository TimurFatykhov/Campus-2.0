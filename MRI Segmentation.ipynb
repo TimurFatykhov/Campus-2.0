{
 "cells": [
  {
   "cell_type": "markdown",
   "metadata": {},
   "source": [
    "# <center> MRI Segmentation"
   ]
  },
  {
   "cell_type": "code",
   "execution_count": null,
   "metadata": {
    "collapsed": true
   },
   "outputs": [],
   "source": [
    "%reload_ext autoreload\n",
    "%autoreload 2\n",
    "%matplotlib inline"
   ]
  },
  {
   "cell_type": "code",
   "execution_count": null,
   "metadata": {},
   "outputs": [],
   "source": [
    "# импортируем требуемые бибилиотеки\n",
    "import torch\n",
    "from source.network import NNSegmentation\n",
    "from source.helpme import show_image, load_mri, create_loader, calculate_pad, show_aug_grid_segmentation\n",
    "import numpy as np\n",
    "import torchvision\n",
    "import os\n",
    "from torchvision import transforms\n",
    "from sklearn.model_selection import train_test_split\n",
    "import glob\n",
    "\n",
    "\n",
    "# импортируем функции аугментации\n",
    "from albumentations import (\n",
    "    Compose, \n",
    "    RandomBrightnessContrast, \n",
    "    ShiftScaleRotate, \n",
    "    RandomSnow,\n",
    "    Cutout,\n",
    "    Flip,\n",
    "    Transpose\n",
    ")"
   ]
  },
  {
   "cell_type": "markdown",
   "metadata": {},
   "source": [
    "[Ссылка](https://github.com/albu/albumentations#pixel-level-transforms) на полный список аугментаций"
   ]
  },
  {
   "cell_type": "code",
   "execution_count": null,
   "metadata": {},
   "outputs": [],
   "source": [
    "# загрузим данные\n",
    "X, y = load_mri(os.path.join('train1', 'train'), \n",
    "                size=(128, 128))"
   ]
  },
  {
   "cell_type": "code",
   "execution_count": null,
   "metadata": {},
   "outputs": [],
   "source": [
    "# разобьем на трэин и тест\n",
    "X_train, X_test, y_train, y_test = train_test_split(X, y, test_size=0.333, shuffle=True, random_state=17)\n",
    "\n",
    "X_test = np.expand_dims(X_test, 1)"
   ]
  },
  {
   "cell_type": "code",
   "execution_count": null,
   "metadata": {},
   "outputs": [],
   "source": [
    "# определим аугментацию\n",
    "aug = Compose([\n",
    "    \n",
    "    Flip(p=0.5),\n",
    "    Cutout(num_holes=5, max_h_size=5, max_w_size=5, fill_value=0, always_apply=False, p=0.5),\n",
    "    ShiftScaleRotate(shift_limit=0.15, scale_limit=0.1, rotate_limit=35 , border_mode=0, p=0.5)\n",
    "\n",
    "])"
   ]
  },
  {
   "cell_type": "code",
   "execution_count": null,
   "metadata": {
    "collapsed": true
   },
   "outputs": [],
   "source": [
    "# создадим train loader\n",
    "train_loader = create_loader(X_train, y_train, trs = aug, shuffle=False, apply_to_targets=True)"
   ]
  },
  {
   "cell_type": "code",
   "execution_count": null,
   "metadata": {},
   "outputs": [],
   "source": [
    "# посмотрим как выглядят картинки с примененной аугментацией\n",
    "show_aug_grid_segmentation(train_loader, idx=0, size=5)"
   ]
  },
  {
   "cell_type": "markdown",
   "metadata": {},
   "source": [
    "## U-net"
   ]
  },
  {
   "cell_type": "code",
   "execution_count": null,
   "metadata": {
    "collapsed": true
   },
   "outputs": [],
   "source": [
    "# определим архитектуру сети\n",
    "\n",
    "unet = torch.nn.Sequential(torch.nn.Conv2d(in_channels=1, \n",
    "                                               out_channels=16, \n",
    "                                               kernel_size=3, \n",
    "                                               stride=2, \n",
    "                                               padding=1),\n",
    "                               torch.nn.LeakyReLU(),\n",
    "                               torch.nn.BatchNorm2d(16),\n",
    "                               # 64x64\n",
    "\n",
    "                               torch.nn.Conv2d(16, 32, 3, stride=2, padding=1),\n",
    "                               torch.nn.LeakyReLU(),\n",
    "                               torch.nn.BatchNorm2d(32),\n",
    "                               # 32x32\n",
    "                               \n",
    "                               \n",
    "                               torch.nn.MaxPool2d(kernel_size=3, \n",
    "                                                  stride=2, \n",
    "                                                  padding=1),\n",
    "                               # 16x16\n",
    "\n",
    "                               torch.nn.Conv2d(32, 64, 3, stride=2, padding=1),\n",
    "                               torch.nn.LeakyReLU(),\n",
    "                               torch.nn.BatchNorm2d(64),\n",
    "                               # 8x8\n",
    "\n",
    "                               torch.nn.Conv2d(64, 128, 3, stride=2, padding=1),\n",
    "                               torch.nn.LeakyReLU(),\n",
    "                               torch.nn.BatchNorm2d(128),\n",
    "                               # 4x4\n",
    "\n",
    "                               # далее обратно увеличиваем spatial size\n",
    "                               torch.nn.ConvTranspose2d(128, 128, 4, stride=2, padding=1),\n",
    "                               torch.nn.ReLU(),\n",
    "                               torch.nn.BatchNorm2d(128),\n",
    "                               # 8x8\n",
    "                           \n",
    "                               torch.nn.ConvTranspose2d(128, 128, 4, stride=2, padding=1),\n",
    "                               torch.nn.ReLU(),\n",
    "                               torch.nn.BatchNorm2d(128),\n",
    "                               # 16x16\n",
    "                           \n",
    "                               torch.nn.ConvTranspose2d(128, 64, 4, stride=2, padding=1),\n",
    "                               torch.nn.ReLU(),\n",
    "                               torch.nn.BatchNorm2d(64),\n",
    "                               # 32x32\n",
    "                           \n",
    "                               torch.nn.ConvTranspose2d(64, 64, 4, stride=2, padding=1),\n",
    "                               torch.nn.ReLU(),\n",
    "                               torch.nn.BatchNorm2d(64),\n",
    "                               # 64x64\n",
    "                           \n",
    "                               torch.nn.ConvTranspose2d(64, 2, 4, stride=2, padding=1), \n",
    "                               # 128x128\n",
    "                           \n",
    "                           torch.nn.LogSoftmax(dim=1)\n",
    "                          )"
   ]
  },
  {
   "cell_type": "code",
   "execution_count": null,
   "metadata": {},
   "outputs": [],
   "source": [
    "# определим модель с удобным функционалом\n",
    "\n",
    "model = NNSegmentation(unet, lr=1e-3, criterion=torch.nn.NLLLoss())"
   ]
  },
  {
   "cell_type": "code",
   "execution_count": null,
   "metadata": {},
   "outputs": [],
   "source": [
    "model.fit_loader(train_loader, epochs=50,\n",
    "          valid_data=[X_test, y_test], log_every_epoch=10)"
   ]
  },
  {
   "cell_type": "code",
   "execution_count": null,
   "metadata": {},
   "outputs": [],
   "source": [
    "model.show_history()"
   ]
  },
  {
   "cell_type": "code",
   "execution_count": null,
   "metadata": {},
   "outputs": [],
   "source": [
    "# посмотрим на ошибку модели на тестовой части (чем меньше, тем лучше)\n",
    "model.loss(X_test, y_test)"
   ]
  },
  {
   "cell_type": "code",
   "execution_count": null,
   "metadata": {},
   "outputs": [],
   "source": [
    "model.show_predict_grid(X_test, y_test, size=3, threshold=0.2)"
   ]
  },
  {
   "cell_type": "code",
   "execution_count": null,
   "metadata": {
    "collapsed": true
   },
   "outputs": [],
   "source": []
  }
 ],
 "metadata": {
  "kernelspec": {
   "display_name": "Python 3",
   "language": "python",
   "name": "python3"
  },
  "language_info": {
   "codemirror_mode": {
    "name": "ipython",
    "version": 3
   },
   "file_extension": ".py",
   "mimetype": "text/x-python",
   "name": "python",
   "nbconvert_exporter": "python",
   "pygments_lexer": "ipython3",
   "version": "3.6.8"
  },
  "latex_envs": {
   "LaTeX_envs_menu_present": true,
   "autocomplete": true,
   "bibliofile": "biblio.bib",
   "cite_by": "apalike",
   "current_citInitial": 1,
   "eqLabelWithNumbers": true,
   "eqNumInitial": 1,
   "hotkeys": {
    "equation": "Ctrl-E",
    "itemize": "Ctrl-I"
   },
   "labels_anchors": false,
   "latex_user_defs": false,
   "report_style_numbering": false,
   "user_envs_cfg": false
  }
 },
 "nbformat": 4,
 "nbformat_minor": 2
}
