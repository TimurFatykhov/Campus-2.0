{
 "cells": [
  {
   "cell_type": "markdown",
   "metadata": {},
   "source": [
    "# <center> MRI Segmentation"
   ]
  },
  {
   "cell_type": "code",
   "execution_count": null,
   "metadata": {
    "collapsed": true
   },
   "outputs": [],
   "source": [
    "%reload_ext autoreload\n",
    "%autoreload 2\n",
    "%matplotlib inline"
   ]
  },
  {
   "cell_type": "code",
   "execution_count": null,
   "metadata": {},
   "outputs": [],
   "source": [
    "# импортируем требуемые бибилиотеки\n",
    "\n",
    "import torch\n",
    "from source.network import NNSegmentation\n",
    "from source.helpme import show_history, show_image, calculate_pad, load_mri\n",
    "import numpy as np\n",
    "import torchvision\n",
    "import os\n",
    "from torchvision import transforms\n",
    "from sklearn.model_selection import train_test_split\n",
    "import glob"
   ]
  },
  {
   "cell_type": "code",
   "execution_count": null,
   "metadata": {},
   "outputs": [],
   "source": [
    "X, y = load_mri('./data/norm_hydro/train/', \n",
    "                size=(128, 128))\n",
    "y = (y == 1).astype(int)"
   ]
  },
  {
   "cell_type": "code",
   "execution_count": null,
   "metadata": {
    "collapsed": true
   },
   "outputs": [],
   "source": [
    "X_train, X_test, y_train, y_test = train_test_split(X, y, test_size=0.333, shuffle=True, random_state=17)"
   ]
  },
  {
   "cell_type": "code",
   "execution_count": null,
   "metadata": {},
   "outputs": [],
   "source": [
    "X_train.shape"
   ]
  },
  {
   "cell_type": "markdown",
   "metadata": {},
   "source": [
    "## U-net"
   ]
  },
  {
   "cell_type": "code",
   "execution_count": null,
   "metadata": {
    "collapsed": true
   },
   "outputs": [],
   "source": [
    "from torchsummary import summary\n",
    "import matplotlib.pyplot as plt"
   ]
  },
  {
   "cell_type": "code",
   "execution_count": null,
   "metadata": {},
   "outputs": [],
   "source": [
    "# определим архитектуру сети\n",
    "\n",
    "unet = torch.nn.Sequential(torch.nn.Conv2d(in_channels=1, \n",
    "                                               out_channels=16, \n",
    "                                               kernel_size=3, \n",
    "                                               stride=2, \n",
    "                                               padding=1),\n",
    "                               torch.nn.LeakyReLU(),\n",
    "                               torch.nn.BatchNorm2d(16),\n",
    "                               # 64x64\n",
    "\n",
    "                               torch.nn.Conv2d(16, 32, 3, stride=2, padding=1),\n",
    "                               torch.nn.LeakyReLU(),\n",
    "                               torch.nn.BatchNorm2d(32),\n",
    "                               # 32x32\n",
    "                               \n",
    "                               \n",
    "                               torch.nn.MaxPool2d(kernel_size=3, \n",
    "                                                  stride=2, \n",
    "                                                  padding=1),\n",
    "                               # 16x16\n",
    "\n",
    "                               torch.nn.Conv2d(32, 64, 3, stride=2, padding=1),\n",
    "                               torch.nn.LeakyReLU(),\n",
    "                               torch.nn.BatchNorm2d(64),\n",
    "                               # 8x8\n",
    "\n",
    "                               torch.nn.Conv2d(64, 128, 3, stride=2, padding=1),\n",
    "                               torch.nn.LeakyReLU(),\n",
    "                               torch.nn.BatchNorm2d(128),\n",
    "                               # 4x4\n",
    "\n",
    "                               # далее обратно увеличиваем spatial size\n",
    "                               torch.nn.ConvTranspose2d(128, 128, 4, stride=2, padding=1),\n",
    "                               torch.nn.ReLU(),\n",
    "                               torch.nn.BatchNorm2d(128),\n",
    "                               # 8x8\n",
    "                           \n",
    "                               torch.nn.ConvTranspose2d(128, 128, 4, stride=2, padding=1),\n",
    "                               torch.nn.ReLU(),\n",
    "                               torch.nn.BatchNorm2d(128),\n",
    "                               # 16x16\n",
    "                           \n",
    "                               torch.nn.ConvTranspose2d(128, 64, 4, stride=2, padding=1),\n",
    "                               torch.nn.ReLU(),\n",
    "                               torch.nn.BatchNorm2d(64),\n",
    "                               # 32x32\n",
    "                           \n",
    "                               torch.nn.ConvTranspose2d(64, 64, 4, stride=2, padding=1),\n",
    "                               torch.nn.ReLU(),\n",
    "                               torch.nn.BatchNorm2d(64),\n",
    "                               # 64x64\n",
    "                           \n",
    "                               torch.nn.ConvTranspose2d(64, 2, 4, stride=2, padding=1),\n",
    "                               # 128x128\n",
    "                          )"
   ]
  },
  {
   "cell_type": "code",
   "execution_count": null,
   "metadata": {
    "collapsed": true
   },
   "outputs": [],
   "source": [
    "# summary(unet, (1, 128, 128))"
   ]
  },
  {
   "cell_type": "code",
   "execution_count": null,
   "metadata": {
    "collapsed": true
   },
   "outputs": [],
   "source": [
    "# определим модель с удобным функционалом\n",
    "\n",
    "model = NNSegmentation(unet, lr=1e-3)"
   ]
  },
  {
   "cell_type": "code",
   "execution_count": null,
   "metadata": {},
   "outputs": [],
   "source": [
    "model.fit(X_train, y_train, epochs=150, batch_size=256, valid_data=[X_test, y_test])"
   ]
  },
  {
   "cell_type": "code",
   "execution_count": null,
   "metadata": {},
   "outputs": [],
   "source": [
    "model.show_history()"
   ]
  },
  {
   "cell_type": "code",
   "execution_count": null,
   "metadata": {},
   "outputs": [],
   "source": [
    "# посмотрим на ошибку модели на тестовой части (чем меньше, тем лучше)\n",
    "model.loss(X_test, y_test)"
   ]
  },
  {
   "cell_type": "code",
   "execution_count": null,
   "metadata": {},
   "outputs": [],
   "source": [
    "model.show_predict_grid(X_test, y_test, size=3, threshold=0.3)"
   ]
  }
 ],
 "metadata": {
  "kernelspec": {
   "display_name": "Python 3",
   "language": "python",
   "name": "python3"
  },
  "language_info": {
   "codemirror_mode": {
    "name": "ipython",
    "version": 3
   },
   "file_extension": ".py",
   "mimetype": "text/x-python",
   "name": "python",
   "nbconvert_exporter": "python",
   "pygments_lexer": "ipython3",
   "version": "3.6.8"
  },
  "latex_envs": {
   "LaTeX_envs_menu_present": true,
   "autocomplete": true,
   "bibliofile": "biblio.bib",
   "cite_by": "apalike",
   "current_citInitial": 1,
   "eqLabelWithNumbers": true,
   "eqNumInitial": 1,
   "hotkeys": {
    "equation": "Ctrl-E",
    "itemize": "Ctrl-I"
   },
   "labels_anchors": false,
   "latex_user_defs": false,
   "report_style_numbering": false,
   "user_envs_cfg": false
  }
 },
 "nbformat": 4,
 "nbformat_minor": 2
}
